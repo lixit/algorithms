{
 "cells": [
  {
   "cell_type": "code",
   "execution_count": 4,
   "id": "f1bda94b",
   "metadata": {},
   "outputs": [
    {
     "name": "stdout",
     "output_type": "stream",
     "text": [
      "[[19 22]\n",
      " [43 50]]\n",
      "[[ 58  64]\n",
      " [139 154]]\n",
      "[[ 50  60]\n",
      " [114 140]]\n"
     ]
    }
   ],
   "source": [
    "import numpy as np\n",
    "a = np.array([[1, 2],\n",
    "              [3, 4]])\n",
    "\n",
    "b = np.array([[5, 6],\n",
    "              [7, 8]])\n",
    "\n",
    "c = np.matmul(a, b)\n",
    "print(c)\n",
    "\n",
    "\n",
    "d = np.array([[1, 2, 3],\n",
    "              [4, 5, 6]])\n",
    "e = np.array([[7, 8],\n",
    "              [9, 10],\n",
    "              [11, 12]])\n",
    "f = np.matmul(d, e)\n",
    "print(f)\n",
    "\n",
    "g = np.array([[1, 2, 3, 4],\n",
    "              [5, 6, 7, 8]])\n",
    "h = np.array([[1, 2],\n",
    "              [3, 4],\n",
    "              [5, 6],\n",
    "              [7, 8]])\n",
    "i = np.matmul(g, h)\n",
    "print(i)"
   ]
  }
 ],
 "metadata": {
  "kernelspec": {
   "display_name": "Python 3 (ipykernel)",
   "language": "python",
   "name": "python3"
  },
  "language_info": {
   "codemirror_mode": {
    "name": "ipython",
    "version": 3
   },
   "file_extension": ".py",
   "mimetype": "text/x-python",
   "name": "python",
   "nbconvert_exporter": "python",
   "pygments_lexer": "ipython3",
   "version": "3.11.6"
  }
 },
 "nbformat": 4,
 "nbformat_minor": 5
}
